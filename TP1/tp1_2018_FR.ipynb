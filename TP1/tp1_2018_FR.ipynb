{
 "cells": [
  {
   "cell_type": "markdown",
   "metadata": {
    "colab_type": "text",
    "id": "7cRcaduOsoAJ"
   },
   "source": [
    "# INF 8215 - Intelligence artif.: méthodes et algorithmes \n",
    "## Automne 2018 - TP1 - Méthodes de recherche \n",
    "### Membres de l'équipe\n",
    "    - Fabrice Dugas (1690694)\n",
    "    - Félix Boulet (1788287)\n",
    "    - Yujia Ding (1801923)\n",
    "\n"
   ]
  },
  {
   "cell_type": "markdown",
   "metadata": {
    "colab_type": "text",
    "id": "GoJ5Y8SZsoAM"
   },
   "source": [
    "## LE VÉLO À MONTRÉAL\n",
    "Chaque année, Montréal accueille à peu près 10 millions de touristes. Soucieuse de la qualité de leur séjour, Tourisme Montréal a entamé un projet de développement d’une nouvelle application mobile afin d’assister les touristes lors de leurs déplacements dans la ville. Cette application a pour but d’aider l’utilisateur à planifier sa visite des importantes attractions de la ville, de la façon la plus efficace possible (ie, sur la durée la plus courte). Étant donné qu’il a été observé que le moyen de transport privilégié des touristes pour explorer Montréal est le vélo, cette application a pour but de générer des circuits cyclables de durée minimale. Plus précisément, étant donné une liste d’attractions munie de points de départ et d’arrivée, la tâche est de proposer, à chaque fois, un chemin qui passe par toutes les attractions indiquées une seule fois, qui débute au point de départ et qui s’achève au point d’arrivée et dont la durée de trajet est minimale.\n",
    "\n",
    "<img src=\"images/montreal.png\" alt=\"\" width=\"800\"/>\n",
    "\n",
    "Le travail demandé dans ce TP est de développer l’algorithme interne de l’application. Nous explorerons trois mécanismes de résolution différents :\n",
    "1. Définition et exploration naïve d’un arbre de recherche\n",
    "2. Exploration plus efficace en utilisant l’algorithme A*\n",
    "3. Optimisation locale en utilisant une métaheuristique de recherche à voisinage variable (Variable Neighborhood Search, VNS)\n",
    "\n",
    "## PRÉSENTATION DU PROBLÈME\n",
    "Une façon naturelle de représenter notre problème est d’utiliser un graphe $G=(V, A)$ dirigé et complet. Chaque sommet dans $V$ est une attraction donnée et chaque arc dans $A$ représente une piste cyclable entre deux attractions distinctes. Chaque paire de sommets $i$ et $j$ est reliée par une paire d’arcs $a_{ij}$ et $a_{ji}$ dont les poids respectifs $w(a_{ij})$ et $w(a_{ji})$ ne sont pas nécessairement égaux. Concrètement, ces poids représentent la durée du trajet d’un sommet à l’autre (ainsi, $w$ est telle que $w : A \\to\\mathbb R^+$).\n",
    "\n",
    "La liste des attractions à visiter est indiquée comme la suite $P = (p_1, ..., p_m)$ où $p_1$ et $p_m$ sont les sommets de départ et d’arrivée, respectivement.\n",
    "\n",
    "## 1. DÉFINITION ET EXPLORATION NAÏVE D’UN ARBRE DE RECHERCHE (5 points)\n",
    "Définissons un arbre de recherche $\\mathcal{T}$ où chaque nœud représente une solution partielle $S$. Soient $V(S) \\subseteq V$ et $A(S) \\subset A$ l’ensemble des sommets visités et l’ensemble des arêtes sélectionnées, respectivement. Ainsi, le coût d’une solution est donné par :\n",
    "$$g(S) = \\sum_{a \\in A(S)} w(a)$$\n",
    "\n",
    "Seule l’origine est visitée initialement. Ainsi, la racine de l’arbre de recherche contient une solution partielle vide $S_{\\textrm{root}}$ telle que $V(S_{\\textrm{root}})=\\{p_1\\}$ et $A(S_{\\textrm{root}}) = \\emptyset$.\n",
    "\n",
    "<img src=\"images/tree1.png\" alt=\"\" width=\"100\"/>\n",
    "\n",
    "À la suite de cela, les nœuds subséquents dans l’arbre sont tous créés en ajoutant, à chaque solution partielle $S$, un sommet subséquent dans $P\\backslash V(S)$ avec l’arc correspondant dans $A$ qui relie ce sommet à la dernière attraction visitée. Le sommet $p_m$ n’est ajouté qu’à la fin, lorsqu’il est le seul sommet non encore visité. Plus formellement, si on note le sommet à ajouter $c$ et le dernier sommet visité $c'$, alors la nouvelle solution partielle obtenue est $V(S) \\gets V(S) \\cup \\{c\\}$ et $A(S) \\gets A(S) \\cup \\{(c’,c)\\}$.\n",
    "\n",
    "Ci-dessous est un exemple de l’arbre étendu depuis sa racine où $c'$ = $p_1$ :\n",
    "\n",
    "<img src=\"images/tree2.png\" alt=\"\" width=\"400\"/>\n",
    "\n",
    "À la fin, les feuilles de l’arbre sont des solutions complètes :\n",
    "\n",
    "<img src=\"images/tree3.png\" alt=\"\" width=\"600\"/>\n",
    "\n",
    "### 1.1 Code\n",
    "La fonction fournie ci-dessous permet d’extraire d’un fichier un graphe qui répond aux spécifications détaillées plus haut. Cette fonction retourne une $\\texttt{ndarray}$ ($\\texttt{graph}$) de taille $|V|\\times |V|$ où $\\texttt{graph[i,j]}$ représente le temps nécessaire pour traverser la piste cyclable de $i$ vers $j$.\n",
    "\n"
   ]
  },
  {
   "cell_type": "code",
   "execution_count": 1,
   "metadata": {},
   "outputs": [],
   "source": [
    "import numpy as np\n",
    "\n",
    "def read_graph():\n",
    "    return np.loadtxt(\"montreal\", dtype='i', delimiter=',')\n",
    "\n",
    "graph = read_graph()"
   ]
  },
  {
   "cell_type": "markdown",
   "metadata": {},
   "source": [
    "Notre première tâche est de définir la classe qui représente une solution partielle. Son constructeur est donné et reçoit comme argument la liste des sommets (attractions $P$) à visiter et le graphe ($G$). Celui-ci crée la solution $S_{\\textrm{root}}$ avec les attributs suivants :\n",
    "- $\\texttt{g}$ : le coût de la solution partielle\n",
    "- $\\texttt{visited}$ : représente $V(S)$, discuté plus haut. Par définition, $\\mathtt{vistited[-1]}$ représente le dernier sommet ajouté, $ c $.\n",
    "- $\\texttt{not}\\_\\texttt{visited}$ : représente $P\\backslash V(S)$\n",
    "- $\\texttt{graph}$: représente le graphe G\n",
    "\n",
    "Ensuite, il est demandé d’implanter la méthode $\\texttt{add}$ qui mets à jour la solution partielle en ajoutant une nouvelle attraction à visiter parmi la liste $\\texttt{not}\\_\\texttt{visited}$. Cette méthode reçoit comme arguments l’index du sommet à visiter parmi $\\texttt{not}\\_\\texttt{visited}$.\n",
    "\n",
    "Implantez $\\texttt{add}$ :"
   ]
  },
  {
   "cell_type": "code",
   "execution_count": 2,
   "metadata": {},
   "outputs": [],
   "source": [
    "import copy\n",
    "\n",
    "class Solution:\n",
    "    def __init__(self, places, graph):\n",
    "        \"\"\"\n",
    "        places: a list containing the indices of attractions to visit\n",
    "        p1 = places[0]\n",
    "        pm = places[-1]\n",
    "        \"\"\"\n",
    "        self.g = 0 # current cost\n",
    "        self.h = 0 # estimate\n",
    "        self.graph = graph \n",
    "        self.visited = [places[0]] # list of already visited attractions\n",
    "        self.not_visited = copy.deepcopy(places[1:]) # list of attractions not yet visited\n",
    "        \n",
    "    def add(self, idx):\n",
    "        \"\"\"\n",
    "        Adds the point in position idx of not_visited list to the solution\n",
    "        \"\"\"\n",
    "        ret = copy.deepcopy(self)\n",
    "        end = ret.not_visited.pop(idx)\n",
    "        begin = ret.visited[-1]\n",
    "        cost = ret.graph[begin, end]\n",
    "        ret.g += cost\n",
    "        ret.visited.append(end)\n",
    "        return ret\n",
    "    \n",
    "    def __𝚕𝚝__(𝚜𝚎𝚕𝚏, 𝚘𝚝𝚑𝚎𝚛):\n",
    "        return (self.g + self.h) < (other.g + other.h)\n",
    "    \n",
    "    def swap(self, i, j):\n",
    "        \"\"\"\n",
    "        Swaps two visited nodes at index i and j\n",
    "        i and j cannot be the first or last element in visited\n",
    "        \"\"\"\n",
    "        \n",
    "        if i == 0 or i == len(self.visited)-1 or j == 0 or j == len(self.visited)-1:\n",
    "            print(\"[WARN] SWAPPING BEGIN OR END NODES i: {}, j: {}\".format(i,j))\n",
    "        \n",
    "        ret = copy.deepcopy(self)\n",
    "        \n",
    "        # actually swap the nodes\n",
    "        tmp = ret.visited[i]\n",
    "        ret.visited[i] = ret.visited[j]\n",
    "        ret.visited[j] = tmp\n",
    "        \n",
    "        # calculate new cost\n",
    "        # could be more efficient by adding to the current cost but YOLO\n",
    "        self.g = 0\n",
    "        for idx, place in enumerate(ret.visited):\n",
    "            if idx == 0:\n",
    "                continue\n",
    "            first = ret.visited[idx-1]\n",
    "            self.g += self.graph[first, place]\n",
    "        \n",
    "        return ret\n",
    "        \n",
    "        "
   ]
  },
  {
   "cell_type": "markdown",
   "metadata": {},
   "source": [
    "La prochaine étape est d’implanter une stratégie de parcours de l’arbre de recherche. Une première méthode simple est naïve est de mettre en œuvre une recherche en largeur ([Breadth-first search](https://moodle.polymtl.ca/pluginfile.php/444662/mod_resource/content/1/recherche_en_largeur.mp4), BFS).\n",
    "\n",
    "Implantez $\\texttt{bfs}$ qui mets en œuvre cette recherche. Elle prend en arguments le graphe courant ainsi que la liste des attractions à visiter $P$ et elle retourne la meilleure solution trouvée."
   ]
  },
  {
   "cell_type": "code",
   "execution_count": 3,
   "metadata": {},
   "outputs": [],
   "source": [
    "from queue import Queue\n",
    "\n",
    "def bfs(graph, places):\n",
    "    \"\"\"\n",
    "    Returns the best solution which spans over all attractions indicated in 'places'\n",
    "    \"\"\"\n",
    "    explored_node_count = 0\n",
    "    best_cost = 100000000000\n",
    "    frontier = Queue()\n",
    "    solution = Solution(places, graph)\n",
    "    best_solution = None\n",
    "    frontier.put(solution)\n",
    "    while frontier.qsize() > 0:\n",
    "        solution = frontier.get()\n",
    "        if len(solution.not_visited) == 0 and solution.g < best_cost:\n",
    "            best_cost = solution.g\n",
    "            best_solution = solution\n",
    "        for idx, place in enumerate(solution.not_visited):\n",
    "            if place != places[-1] or len(solution.not_visited) == 1:\n",
    "                explored_node_count += 1\n",
    "                frontier.put(solution.add(idx))\n",
    "                \n",
    "    return best_solution, explored_node_count"
   ]
  },
  {
   "cell_type": "markdown",
   "metadata": {},
   "source": [
    "### 1.2 Expérimentations\n",
    "\n",
    "On propose trois exemples d’illustration pour tester notre recherche en largeur. Le premier exemple prend en compte 7 attractions, le second 10 et le dernier 11. Vu que cette recherche énumère toutes les solutions possibles, le troisième exemple risque de prendre un temps considérable à s’achever.\n",
    "\n",
    "Mettez en œuvre ces expériences et notez le nombre de nœuds explorés ainsi que le temps de calcul requis."
   ]
  },
  {
   "cell_type": "code",
   "execution_count": 4,
   "metadata": {
    "colab": {},
    "colab_type": "code",
    "id": "H1lFkJPJBcR3"
   },
   "outputs": [
    {
     "name": "stdout",
     "output_type": "stream",
     "text": [
      "27\n",
      "445\n",
      "--- 0.03197526931762695 seconds ---\n"
     ]
    }
   ],
   "source": [
    "import time \n",
    "\n",
    "#test 1  --------------  OPT. SOL. = 27\n",
    "start_time = time.time()\n",
    "places=[0, 5, 13, 16, 6, 9, 4]\n",
    "sol, explored = bfs(graph=graph, places=places)\n",
    "print(sol.g)\n",
    "print(explored)\n",
    "print(\"--- %s seconds ---\" % (time.time() - start_time))"
   ]
  },
  {
   "cell_type": "code",
   "execution_count": 5,
   "metadata": {
    "colab": {},
    "colab_type": "code",
    "id": "Yn9mUPhBB9hv"
   },
   "outputs": [
    {
     "name": "stdout",
     "output_type": "stream",
     "text": [
      "30\n",
      "149920\n",
      "--- 4.935027122497559 seconds ---\n"
     ]
    }
   ],
   "source": [
    "#test 2 -------------- OPT. SOL. = 30\n",
    "start_time = time.time()\n",
    "places=[0, 1, 4, 9, 20, 18, 16, 5, 13, 19]\n",
    "sol, explored = bfs(graph=graph, places=places)\n",
    "print(sol.g)\n",
    "print(explored)\n",
    "print(\"--- %s seconds ---\" % (time.time() - start_time))"
   ]
  },
  {
   "cell_type": "code",
   "execution_count": 6,
   "metadata": {},
   "outputs": [
    {
     "name": "stdout",
     "output_type": "stream",
     "text": [
      "26\n",
      "1349289\n",
      "--- 44.424275159835815 seconds ---\n"
     ]
    }
   ],
   "source": [
    "#test 3 -------------- OPT. SOL. = 26\n",
    "start_time = time.time()\n",
    "places=[0, 2, 7, 13, 11, 16, 15, 7, 9, 8, 4]\n",
    "sol, explored = bfs(graph=graph, places=places)\n",
    "print(sol.g)\n",
    "print(explored)\n",
    "print(\"--- %s seconds ---\" % (time.time() - start_time))"
   ]
  },
  {
   "cell_type": "markdown",
   "metadata": {},
   "source": [
    "| Test | Nb. noeuds | Temps (s) |\n",
    "|------|------------|-----------|\n",
    "| 1    | 445        | 0.0150063 |\n",
    "| 2    | 149920     | 4.0327137 |\n",
    "| 3    | 1349289    | 39.531402 |"
   ]
  },
  {
   "cell_type": "markdown",
   "metadata": {},
   "source": [
    "## 2. RECHERCHE GUIDÉE À L’AIDE DE L’ALGORITHME A\\* (7.5 points)\n",
    "Pour notre deuxième méthode de recherche, au lieu d’énumérer toutes les solutions possibles, nous effectuons une recherche guidée à l’aide de l’algorithme A\\*. Comme vu en classe, A\\* est une recherche où les nœuds à explorer sont priorisés en fonction du coût courant d’une solution $g(S)$ ainsi que d’une estimation du coût restant vers la solution finale donné par une heuristique $h(S)$.\n",
    "\n",
    "Dans le cas d’une minimisation, $h(S)$ est une borne inférieure du coût réel restant et on priorise l’exploration des nœuds dont $f(S) = g(S)+h(S)$ est le plus petit. Avec cette méthode, la première solution complète trouvée est assurément la solution optimale.\n",
    "\n",
    "Pour une solution donnée $S$ avec un dernier sommet visité $c$, une possible fonction $h$ est telle que :\n",
    "\n",
    "$h(S) =$ Le poids du chemin le plus court entre $c$ et $p_m$ dans le sous graphe $G_S$ contenant les sommets $P\\backslash V(S) \\cup \\{c\\}$\n",
    "\n",
    "Remarque que ce chemin le plus court utilisé dans le calcul de l’estimation $h$ entre l’attraction courante et l’arrivée ne passera pas nécessairement pas tous les sommets restants.\n",
    "\n",
    "\n",
    "Notre algorithme A\\* se présente comme ceci :\n",
    "1. Définir l’arbre de recherche $\\mathcal{T}$ exactement comme auparavant. Le calcul de $h$ pour la solution initiale est inutile : c’est la seule solution qu’on a.\n",
    "2. Sélectionner le meilleur nœud candidat pour expansion. La solution partielle $S_b$ de ce nœud candidat est telle que :\n",
    "\n",
    "   $$ f(S_b) \\leq f(S) \\quad \\forall S \\in \\mathcal{T} \\qquad S_B, S \\text{ pas encore sélectionnés}$$\n",
    "\n",
    "   Si $S_b$ est une solution complète, l’algorithme s’arrête et $S_b$ est assurément la solution optimale, sinon on continue à l’étape 3.\n",
    "3. Créer des solutions subséquentes qui connectent la dernière attraction visitée à chacune des attractions restantes. Attention, on ignore l’arrivée tant que celle-ci n’est pas la seule qui reste.\n",
    " - Mettez à jour les listes des sommets visités et non visités\n",
    " - Calculez $g$ et $h$ pour chaque solution\n",
    " - Insérer la nouvelle solution partielle dans l’arbre.\n",
    "4. Répéter 2 et 3.\n",
    "\n",
    "\n",
    "### 2.1 Code\n",
    "Commençons d’abord par compléter la classe $\\texttt{Solution}$ pour prendre en compte les changements nécessaires à A\\* (on a besoin notamment d’un attribut supplémentaire pour l’estimation $h$).\n",
    "\n",
    "On verra plus tard que A\\* s’implante à l’aide d’une file de priorité (priority queue). Pour que celle-ci marche, il est nécessaire de surcharger (overload) l’opérateur de comparaison « < » relatif à nos objets $\\texttt{Solution}$. En sachant ce qui fait qu'une solution est meilleure qu’une autre pour l'exploration, implanter la méthode $\\_\\_\\texttt{lt}\\_\\_$ dans $\\texttt{Solution}$. Son prototype est $\\_\\_\\texttt{lt}\\_\\_\\texttt{(self, other)}$.\n",
    "\n",
    "Maintenant, nous devons implanter la fonction d’estimation $h$. Pour cela, on utilise l’[algorithme de Dijkstra](https://en.wikipedia.org/wiki/Dijkstra%27s_algorithm) pour trouver le chemin le plus court entre la dernière attraction visitée $c$ et l’arrivée $p_m$. Il est possible d’adapter cet algorithme pour qu’il s’arrête dès que le chemin le plus court entre c et pm est trouvé.\n",
    "\n",
    "**Prescriptions d’implantation :**\n",
    "- Appliquer Dijkstra pour trouver le chemin le plus court entre $c$ et $p_m$\n",
    "- Retourner le poids de ce chemin"
   ]
  },
  {
   "cell_type": "code",
   "execution_count": 7,
   "metadata": {
    "colab": {},
    "colab_type": "code",
    "id": "PxRTHhZmNEOB"
   },
   "outputs": [],
   "source": [
    "import heapq\n",
    "\n",
    "def fastest_path_estimation(sol):\n",
    "    \"\"\"\n",
    "    Returns the time spent on the fastest path between \n",
    "    the current vertex c and the ending vertex pm\n",
    "    \"\"\"\n",
    "    if not sol.not_visited:\n",
    "        return 0\n",
    "    \n",
    "    c = sol.visited[-1]\n",
    "    pm = sol.not_visited[-1]\n",
    "    \n",
    "    # Array of tuples of the form (cost, node)\n",
    "    q = [(0, c)]\n",
    "    \n",
    "    # Map the array to a set of tuples of the form (None, x) where x is the node id.\n",
    "    remaining = set(map(lambda x: (None, x), sol.not_visited))\n",
    "    processed = set()\n",
    "    \n",
    "    # While there are nodes in the priority queue\n",
    "    while q:\n",
    "        (cost, node) = heapq.heappop(q) # Pop the first one\n",
    "        if node not in processed: # If the node wasn't processed already (at a better cost/priority)\n",
    "            if node == pm: # If the node is the target, we're done\n",
    "                return cost\n",
    "            processed.add(node) # If not, add it to the processed nodes\n",
    "            if node in remaining:\n",
    "                remaining.remove(node) # Should always be true, but just in case\n",
    "            for previous_cost, neighbor in remaining: # Check all remaining neighbors that have no shortest path yet\n",
    "                cost_now  = cost + sol.graph[node, neighbor]\n",
    "                if previous_cost is None or cost_now < previous_cost: # If it has a better cost, change it and push to the queue\n",
    "                    previous_cost = cost_now\n",
    "                    heapq.heappush(q, (cost_now, neighbor))\n",
    "    return None # path is unreachable\n",
    "    "
   ]
  },
  {
   "cell_type": "markdown",
   "metadata": {
    "colab_type": "text",
    "id": "9pjLMOpju-a9"
   },
   "source": [
    "Finalement, il est temps d’implanter A\\*. On aura besoin d’une file de priorité qui retournera toujours le meilleur nœud candidat de $\\mathcal{T}$ pour l’étendre (l’opérateur surchargé de comparaison assure cela).\n",
    "\n",
    "**Prescriptions d’implantation (cf. détail des étapes de l’algorithme plus haut) :**\n",
    "- Tant que les solutions extraites de la file de priorité ne sont pas complètes :\n",
    "  *\tSélectionner et étendre le nœud extrait de la file comme détaillé plus haut\n",
    "  * Calculer $g$ et $h$ pour chaque nouvelle solution partielle obtenue\n",
    "  * Remettre ces solutions dans la file\n",
    "- Retourner la première solution complète extraite de la file (c’est la solution optimale)"
   ]
  },
  {
   "cell_type": "code",
   "execution_count": 18,
   "metadata": {
    "colab": {},
    "colab_type": "code",
    "id": "D6e45uNMvanU"
   },
   "outputs": [],
   "source": [
    "import heapq\n",
    "\n",
    "def A_star(graph, places):\n",
    "    \"\"\"\n",
    "    Performs the A* algorithm\n",
    "    \"\"\"\n",
    "    \n",
    "    explored_count = 0\n",
    "\n",
    "    # blank solution\n",
    "    root = Solution(graph=graph, places=places)\n",
    "\n",
    "    # search tree T\n",
    "    T = []\n",
    "    heapq.heapify(T)\n",
    "    heapq.heappush(T, root)\n",
    "\n",
    "    # While there are nodes in the priority queue\n",
    "    while T:\n",
    "        solution = heapq.heappop(T) # Pop the first one\n",
    "        if len(solution.not_visited) == 0:\n",
    "            return solution, explored_count\n",
    "        for idx, place in enumerate(solution.not_visited):\n",
    "            if place != places[-1] or len(solution.not_visited) == 1:\n",
    "                explored_count += 1\n",
    "                temp_sol = solution.add(idx)\n",
    "                temp_sol.h = fastest_path_estimation(temp_sol)\n",
    "                #temp_sol.h = minimum_spanning_arborescence(temp_sol)\n",
    "                heapq.heappush(T, temp_sol)\n",
    "    return None, explored_count\n",
    "    "
   ]
  },
  {
   "cell_type": "markdown",
   "metadata": {
    "colab_type": "text",
    "id": "T2NhBa4GsoAP"
   },
   "source": [
    "### 2.2 Expérimentations\n",
    "\n",
    "On ajoute un Quatrième exemple d’exécution avec 15 attractions. Là encore, mettez en œuvre ces expériences avec le nouvel algorithme A\\* conçu et notez le nombre de nœuds explorés ainsi que le temps de calcul requis."
   ]
  },
  {
   "cell_type": "code",
   "execution_count": 19,
   "metadata": {
    "colab": {},
    "colab_type": "code",
    "id": "H1lFkJPJBcR3"
   },
   "outputs": [
    {
     "name": "stdout",
     "output_type": "stream",
     "text": [
      "27\n",
      "[0, 5, 13, 16, 6, 9, 4]\n",
      "42\n",
      "--- 0.00447392463684082 seconds ---\n"
     ]
    }
   ],
   "source": [
    "import time\n",
    "\n",
    "#test 1  --------------  OPT. SOL. = 27\n",
    "start_time = time.time()\n",
    "places=[0, 5, 13, 16, 6, 9, 4]\n",
    "astar_sol, explored = A_star(graph=graph, places=places)\n",
    "print(astar_sol.g)\n",
    "print(astar_sol.visited)\n",
    "print(explored)\n",
    "print(\"--- %s seconds ---\" % (time.time() - start_time))"
   ]
  },
  {
   "cell_type": "code",
   "execution_count": 20,
   "metadata": {
    "colab": {},
    "colab_type": "code",
    "id": "Yn9mUPhBB9hv"
   },
   "outputs": [
    {
     "name": "stdout",
     "output_type": "stream",
     "text": [
      "30\n",
      "[0, 1, 4, 5, 9, 13, 16, 18, 20, 19]\n",
      "75\n",
      "--- 0.014627933502197266 seconds ---\n"
     ]
    }
   ],
   "source": [
    "#test 2  --------------  OPT. SOL. = 30\n",
    "start_time = time.time()\n",
    "places=[0, 1, 4, 9, 20, 18, 16, 5, 13, 19]\n",
    "astar_sol, explored = A_star(graph=graph, places=places)\n",
    "print(astar_sol.g)\n",
    "print(astar_sol.visited)\n",
    "print(explored)\n",
    "print(\"--- %s seconds ---\" % (time.time() - start_time))"
   ]
  },
  {
   "cell_type": "code",
   "execution_count": 21,
   "metadata": {
    "colab": {},
    "colab_type": "code",
    "id": "ZX5SD5CRBfKg"
   },
   "outputs": [
    {
     "name": "stdout",
     "output_type": "stream",
     "text": [
      "26\n",
      "[0, 2, 7, 7, 9, 13, 15, 16, 11, 8, 4]\n",
      "150\n",
      "--- 0.026469945907592773 seconds ---\n"
     ]
    }
   ],
   "source": [
    "#test 3  --------------  OPT. SOL. = 26\n",
    "start_time = time.time()\n",
    "places=[0, 2, 7, 13, 11, 16, 15, 7, 9, 8, 4]\n",
    "astar_sol, explored = A_star(graph=graph, places=places)\n",
    "print(astar_sol.g)\n",
    "print(astar_sol.visited)\n",
    "print(explored)\n",
    "print(\"--- %s seconds ---\" % (time.time() - start_time))"
   ]
  },
  {
   "cell_type": "code",
   "execution_count": 22,
   "metadata": {},
   "outputs": [
    {
     "name": "stdout",
     "output_type": "stream",
     "text": [
      "40\n",
      "[0, 3, 9, 13, 15, 18, 20, 16, 11, 12, 14, 5, 4, 2, 1]\n",
      "722\n",
      "--- 0.2680339813232422 seconds ---\n"
     ]
    }
   ],
   "source": [
    "#test 4  --------------  OPT. SOL. = 40\n",
    "start_time = time.time()\n",
    "places=[0, 2, 20, 3, 18, 12, 13, 5, 11, 16, 15, 4, 9, 14, 1]\n",
    "astar_sol, explored = A_star(graph=graph, places=places)\n",
    "print(astar_sol.g)\n",
    "print(astar_sol.visited)\n",
    "print(explored)\n",
    "print(\"--- %s seconds ---\" % (time.time() - start_time))"
   ]
  },
  {
   "cell_type": "markdown",
   "metadata": {},
   "source": [
    "#### Heuristique Dijkstra\n",
    "\n",
    "| Test | Nb. noeuds | Temps (s) |\n",
    "|------|------------|-----------|\n",
    "| 1    | 120        | 0.0049860 |\n",
    "| 2    | 1302       | 0.0540085 |\n",
    "| 3    | 3831       | 0.1389732 |\n",
    "| 4    | 624491     | 38.987563 |\n",
    "\n",
    "#### Heuristique Minimum Spanning Arborescence\n",
    "\n",
    "| Test | Nb. noeuds | Temps (s) |\n",
    "|------|------------|-----------|\n",
    "| 1    | 42         | 0.0029986 |\n",
    "| 2    | 75         | 0.0109856 |\n",
    "| 3    | 150        | 0.0199816 |\n",
    "| 4    | 722        | 0.2069330 |\n",
    "\n"
   ]
  },
  {
   "cell_type": "markdown",
   "metadata": {},
   "source": [
    "### 2.3 Une meilleure borne inférieure\n",
    "\n",
    "Notre algorithme A\\* est déjà beaucoup plus efficace qu’une recherche naïve. Cependant, la qualité de l’heuristique $h$ a un très grand impact sur la vitesse de A\\*. Une heuristique plus serrée devrait accélérer A\\* de façon significative. Notre estimation $h$ basée sur Dijkstra est très large à cause du fait qu’elle ne considère pas toutes les attractions restantes.\n",
    "\n",
    "Une meilleure heuristique pourrait être basée sur la **Spanning Arborescence of Minimum Weight** qui s’apparente à une Minimum Spanning Tree pour graphes orientés. On propose de construire une telle Spanning Arborescence sur le reste des attractions $P\\backslash V(S) \\cup \\{c\\}$. Ici la racine est la dernière attraction visitée $c$. Une façon classique de résoudre ce problème est d’utiliser l’[algorithme de Edmonds](https://en.wikipedia.org/wiki/Edmonds%27_algorithm).\n",
    "\n",
    "Implantez cet algorithme et refaites les expériences avec A\\* en utilisant cette nouvelle heuristique :"
   ]
  },
  {
   "cell_type": "code",
   "execution_count": 23,
   "metadata": {},
   "outputs": [],
   "source": [
    "from collections import namedtuple\n",
    "\n",
    "Edge = namedtuple('Edge', 'u v w')\n",
    "\n",
    "def edmonds(edges, root):\n",
    "    minimum_edges = {}\n",
    "    for edge in edges:\n",
    "        if minimum_edges.get(edge.v) is None or edge.w < minimum_edges[edge.v].w:\n",
    "            minimum_edges[edge.v] = edge\n",
    "    minimum_edges[root] = Edge(-1, root, 0)\n",
    "\n",
    "    groups = {}\n",
    "    is_cycle_group = {}\n",
    "    cycles = []\n",
    "    stack = []\n",
    "    index = {}\n",
    "    lowlink = {}\n",
    "    for edge in minimum_edges:\n",
    "        if edge not in index and minimum_edges[edge].w > 0:\n",
    "            find_cycle(edge, minimum_edges, cycles, stack, index, lowlink)\n",
    "    \n",
    "    groups[root] = root\n",
    "    is_cycle_group[root] = False\n",
    "    for edge in edges:\n",
    "        if not groups.get(edge.v):\n",
    "            groups[edge.v] = edge.v\n",
    "            is_cycle_group[edge.v] = False\n",
    "    \n",
    "    for cycle in cycles:\n",
    "        cycle_group = cycle[0].v\n",
    "        for edge in cycle:\n",
    "            if len(cycle) > 1:\n",
    "                groups[edge.v] = cycle_group\n",
    "                is_cycle_group[groups[edge.v]] = True\n",
    "\n",
    "    if True not in is_cycle_group.values():\n",
    "        result = 0\n",
    "        for edge in minimum_edges:\n",
    "            result += minimum_edges[edge].w\n",
    "        return result\n",
    "    \n",
    "    result = 0\n",
    "    for edge in minimum_edges:\n",
    "        if (is_cycle_group[groups[minimum_edges[edge].v]]):\n",
    "            result += minimum_edges[edge].w\n",
    "            \n",
    "    new_edges = []\n",
    "    \n",
    "    for edge in edges:\n",
    "        found = False\n",
    "        u = groups[edge.u]\n",
    "        v = groups[edge.v]\n",
    "        if u == v:\n",
    "            continue\n",
    "        elif is_cycle_group[v]:\n",
    "            new_edges += [Edge(u, v, edge.w - minimum_edges[edge.v].w)]\n",
    "        else:\n",
    "            new_edges += [Edge(u, v, edge.w)]\n",
    "    \n",
    "    return result + edmonds(new_edges, groups[root])\n",
    "\n",
    "        \n",
    "# Tarjan's algorithm: https://en.wikipedia.org/wiki/Tarjan%27s_strongly_connected_components_algorithm\n",
    "def find_cycle(node, edges, cycles, stack, index, lowlink):\n",
    "    if node == -1:\n",
    "        return\n",
    "    index[node] = len(index) # The index keeps the order of discovery of the nodes\n",
    "    lowlink[node] = index[node] # The lowlink keeps the smallest index that's reachable from our node\n",
    "    stack += [node]\n",
    "    neighbor = edges[node].u\n",
    "    if neighbor not in index and neighbor != -1: # If the neighbor has not been visited yet,\n",
    "        find_cycle(neighbor, edges, cycles, stack, index, lowlink) # Recursion! Let's go farther in our exploration (DFS)\n",
    "        lowlink[node] = min(lowlink[neighbor], lowlink[node])\n",
    "        # Take the minimum between the smallest index reachable from the neighbor and what we had before (transitivity)\n",
    "    elif neighbor in stack: # If the neighbor is still in our DFS stack, meaning it could be 'better'\n",
    "        lowlink[node] = min(lowlink[node], index[neighbor])\n",
    "        # Take the minimum between the index of the neighbor and what we had before\n",
    "\n",
    "    if lowlink[node] == index[node]: # If the smallest index reachable from the node is itself, we have a cycle!\n",
    "        scc = [] # Strongly-connected component\n",
    "        neighbor = None\n",
    "        while node != neighbor and neighbor != -1: # As long as we don't find a neighbor that's the same as the node or the root,\n",
    "            neighbor = stack.pop() # Pop what's in the cycle\n",
    "            scc += [edges[neighbor]] # Add it to the strongly-connected component\n",
    "        cycles += [scc] # Hey, we're done with this. Add it to the cycles.\n",
    "        \n",
    "def minimum_spanning_arborescence(sol):\n",
    "    root = sol.visited[-1]\n",
    "    minimum_edges = {}\n",
    "    edges = []\n",
    "    \n",
    "    for node in sol.not_visited:\n",
    "        for neighbor in sol.not_visited:\n",
    "            if node != neighbor:\n",
    "                edges += [Edge(node, neighbor, graph[node, neighbor])]\n",
    "        edges += [Edge(root, node, graph[root, node])]\n",
    "    \n",
    "    \n",
    "    return edmonds(edges, root)\n"
   ]
  },
  {
   "cell_type": "markdown",
   "metadata": {
    "colab_type": "text",
    "id": "r9oJnFHbxrvj"
   },
   "source": [
    "## 3. RECHERCHE LOCALE À VOISINAGE VARIABLE  (7.5 points)\n",
    "\n",
    "Cette fois-ci, au lieu de construire une solution optimale depuis une solution vide, on commence d’une solution complète, non-optimale, qu’on améliore à l’aide d’une recherche locale en utilisant une recherche locale à voisinage variable ([Variable Neighborhood Search](https://en.wikipedia.org/wiki/Variable_neighborhood_search), VNS).\n",
    "\n",
    "<img src=\"images/vns.png\" alt=\"\" width=\"800\"/>\n",
    "\n",
    "### 3.1 Code\n",
    "\n",
    "On commence par créer une solution initiale. Celle-ci est une suite ordonnée des attractions de $p_1$ à $p_m$ dans $P$. Pour cela, on fait appel à une [recherche en profondeur (Depth-First Search, DFS)](https://moodle.polymtl.ca/pluginfile.php/445484/mod_resource/content/1/recherche_en_profondeur.mp4) qu’on arrête aussitôt qu’une solution complète est trouvée. Pour aider à diversifier la recherche, la méthode permettant de générer une solution initiale peut être randomisée de telle sorte que l'algorithme VNS puisse lancer la recherche dans différentes régions de l'espace solution. Ainsi, dans la fonction DFS, la sélection de l'enfant pour continuer la recherche doit être aléatoire.\n",
    "\n",
    "**Prescriptions d’implantation :**\n",
    "- Mettre en œuvre une recherche en profondeur\n",
    "- Créer un objet $\\texttt{Solution}$ relatif à cette solution\n",
    "- Ajuster les attributs de cet objet avec les bonnes valeurs de coûts et d’attractions visitées\n",
    "- Retourner la solution trouvée."
   ]
  },
  {
   "cell_type": "code",
   "execution_count": 24,
   "metadata": {
    "colab": {},
    "colab_type": "code",
    "id": "JKx9Z-ayxzSw"
   },
   "outputs": [],
   "source": [
    "from random import shuffle, randint\n",
    "\n",
    "def initial_sol(graph, places):\n",
    "    \"\"\"\n",
    "    Return a completed initial solution\n",
    "    \"\"\"\n",
    "    return dfs(graph, places)\n",
    "    \n",
    "\n",
    "def dfs(graph, places):\n",
    "    \"\"\"\n",
    "    Performs a Depth-First Search\n",
    "    \"\"\"    \n",
    "    solution = Solution(places, graph)\n",
    "    while len(solution.not_visited) > 0:\n",
    "        not_visited = solution.not_visited\n",
    "        if len(solution.not_visited) != 1:\n",
    "            # on enleve la destination des choix pour la prochaine solution a visiter\n",
    "            not_visited = solution.not_visited[0:-1]\n",
    "            \n",
    "        index = randint(0, len(not_visited)-1)\n",
    "        solution = solution.add(index)\n",
    "        \n",
    "    return solution\n",
    "    "
   ]
  },
  {
   "cell_type": "markdown",
   "metadata": {
    "colab_type": "text",
    "id": "JnTFBFqvXpNz"
   },
   "source": [
    "Pour définir une VNS, il faut définir les $k_\\textrm{max}$ voisinages de recherche locale possibles. Pour notre problème, une bonne et simple répartition des voisinages est telle qu’un voisinage $k$ correspond à la permutation de $k$-paires de sommets dans $V(S)$.\n",
    "\n",
    "On appelle **shaking** l’étape de génération d’une solution dans le voisinage $k$. Le travail qui suit correspond à l’implantation de cette étape. $\\texttt{shaking}$ admet 3 arguments que sont la solution de départ, l’indice du voisinage $k$ ainsi que le graph courant.\n",
    "\n",
    "Attention, avant d’implanter $\\texttt{shaking}$, il est nécessaire de créer une méthode $\\texttt{swap}$ dans la classe $\\texttt{Solution}$. Cette méthode permet de mettre en œuvre la permutation dans une solution donnée (en mettant à jour tous les attributs nécessaires pour que la solution soit cohérente).\n",
    "\n",
    "**Prescriptions d’implantation de shaking :**\n",
    "- Sélectionner au hasard deux indices $i$ et $j$ différents et tels que $i, j \\in \\{2,...,m-1\\}$\n",
    "- Faire une copie de la solution courante et faire la permutation\n",
    "- Retourner la solution créée"
   ]
  },
  {
   "cell_type": "code",
   "execution_count": 25,
   "metadata": {
    "colab": {},
    "colab_type": "code",
    "id": "EWLAhZUlfFOZ"
   },
   "outputs": [],
   "source": [
    "def shaking(sol, k):\n",
    "    \"\"\"\n",
    "    Returns a solution on the k-th neighborhood of sol\n",
    "    \"\"\"\n",
    "    solution = copy.deepcopy(sol)\n",
    "    for _ in range(k):\n",
    "        i = randint(1,len(solution.visited)-2)\n",
    "        j = randint(1,len(solution.visited)-2)\n",
    "        while i == j:\n",
    "            # assure que i sera different de j\n",
    "            j = randint(1,len(solution.visited)-2)\n",
    "        \n",
    "        solution = solution.swap(i,j)\n",
    "    return solution"
   ]
  },
  {
   "cell_type": "markdown",
   "metadata": {
    "colab_type": "text",
    "id": "PD_PxV54sl1o"
   },
   "source": [
    "Une dernière étape essentielle dans une VNS est l’application d’un algorithme de recherche locale à la solution issue du shaking. Pour cela, on propose la recherche locale 2-opt. Celle-ci intervertit deux arcs dans la solution, à la recherche d’une qui est meilleure.\n",
    "\n",
    "Pour un sommet $ i $, soit $ i '$ le successeur immédiat de $ i $ dans la séquence $ V (S) $. L'algorithme 2-opt fonctionne comme suit: pour chaque paire de sommets non consécutifs $ i, j $, vérifiez si en échangeant la position des sommets $ i '$ et $ j $ entraîne une amélioration du coût de la solution. Si oui, effectuez cet échange. Ce processus se répète jusqu'à ce qu'il n'y ait plus d'échanges rentables. On réalise cette opération pour toutes les paires d’arcs éligibles à la recherche du plus petit coût.\n",
    "\n",
    "<img src=\"images/2opt.png\" alt=\"\" width=\"800\"/>\n",
    "\n",
    "<img src=\"images/2opt2.png\" alt=\"\" width=\"800\"/>\n",
    "\n",
    "\n",
    "Implantez $\\texttt{local}\\_\\texttt{search}\\_\\texttt{2opt}$. \n",
    "\n",
    "**Prescriptions d’implantation :**\n",
    "- Considérer chaque paire d’indices $i = \\{2,..,m-3\\}$ and $j = \\{i+2, m-1\\}$\n",
    "- Si l’échange donne un plus bas coût, on le réalise\n",
    "- Répéter jusqu’à optimum local."
   ]
  },
  {
   "cell_type": "code",
   "execution_count": 26,
   "metadata": {
    "colab": {},
    "colab_type": "code",
    "id": "_97d-BQV8tzt"
   },
   "outputs": [],
   "source": [
    "def local_search_2opt(sol):\n",
    "    \"\"\"\n",
    "    Apply 2-opt local search over sol\n",
    "    \"\"\"\n",
    "    best_solution = copy.deepcopy(sol)\n",
    "    found_better_solution = True\n",
    "    while found_better_solution:\n",
    "        found_better_solution = False\n",
    "        solution = copy.deepcopy(best_solution)\n",
    "        # la prescriptions d'implantation est 1-indexed donc on doit utiliser le mm range -1\n",
    "        for i in range(1,len(solution.visited)-4):\n",
    "            for j in range(i+2,len(solution.visited)-2):\n",
    "                i_prime = i+1\n",
    "                neighbour = solution.swap(i_prime,j)\n",
    "                if neighbour.g < best_solution.g:\n",
    "                    best_solution = neighbour\n",
    "                    found_better_solution = True\n",
    "    \n",
    "    return best_solution\n"
   ]
  },
  {
   "cell_type": "markdown",
   "metadata": {
    "colab_type": "text",
    "id": "ZPG90m1g_HgA"
   },
   "source": [
    "Finalement, il est temps d'implanter notre VNS. La méthode $\\texttt{vns}$ reçoit une solution complète, le graphe courant, le nombre maximal de voisinages et un temps de calcul limite. Celle-ci retourne la solution optimale trouvée\n",
    "\n",
    "**Prescriptions d’implantation :**\n",
    "- À chaque itération, la VNS génère une solution dans le k-ème voisinage (shaking) à partir de la meilleure solution courante et applique une recherche locale 2-opt dessus\n",
    "- Si la nouvelle solution trouvée a un meilleur coût, mettre à jour la meilleure solution courante\n",
    "- Répéter le processus jusqu'à $\\texttt{t}\\_\\texttt{max}$"
   ]
  },
  {
   "cell_type": "code",
   "execution_count": 27,
   "metadata": {
    "colab": {},
    "colab_type": "code",
    "id": "ZQwCN2HB_m-q"
   },
   "outputs": [],
   "source": [
    "def vns(sol, k_max, t_max):\n",
    "    \"\"\"\n",
    "    Performs the VNS algorithm\n",
    "    \"\"\"\n",
    "    k = 1\n",
    "    best_solution = copy.deepcopy(sol) # meilleure solution a vie\n",
    "    start_time = time.time()\n",
    "    end_time = start_time + t_max\n",
    "    while time.time() < end_time:\n",
    "        solution = shaking(best_solution, k)\n",
    "        solution = local_search_2opt(solution)\n",
    "        \n",
    "        if solution.g < best_solution.g:\n",
    "            best_solution = copy.deepcopy(solution)\n",
    "            #print(\"VNS meilleure solution: {}\".format(best_solution.g))\n",
    "    \n",
    "        # go to next neighborhood\n",
    "        k = k % k_max + 1\n",
    "    \n",
    "    return best_solution"
   ]
  },
  {
   "cell_type": "markdown",
   "metadata": {
    "colab_type": "text",
    "id": "z5TPMN2XCkPc"
   },
   "source": [
    "### 3.2 Experiments\n",
    "\n",
    "Mettez en oeuvre la VNS sur les exemples d'illustration suivants et raportez les solutions obtenue:"
   ]
  },
  {
   "cell_type": "code",
   "execution_count": 32,
   "metadata": {
    "colab": {},
    "colab_type": "code",
    "id": "Ox0PScj5CTzq"
   },
   "outputs": [
    {
     "name": "stdout",
     "output_type": "stream",
     "text": [
      "27\n",
      "[0, 5, 6, 13, 16, 9, 4]\n",
      "--- 1.0004453659057617 seconds ---\n"
     ]
    }
   ],
   "source": [
    "# test 1  --------------  OPT. SOL. = 27\n",
    "places=[0, 5, 13, 16, 6, 9, 4]\n",
    "sol = initial_sol(graph=graph, places=places)\n",
    "start_time = time.time()\n",
    "vns_sol = vns(sol=sol, k_max=10, t_max=1)\n",
    "print(vns_sol.g)\n",
    "print(vns_sol.visited)\n",
    "print(\"--- %s seconds ---\" % (time.time() - start_time))"
   ]
  },
  {
   "cell_type": "code",
   "execution_count": 35,
   "metadata": {
    "colab": {},
    "colab_type": "code",
    "id": "a5IB2FbqCTz3"
   },
   "outputs": [
    {
     "name": "stdout",
     "output_type": "stream",
     "text": [
      "31\n",
      "[0, 1, 4, 5, 16, 9, 13, 20, 18, 19]\n",
      "--- 1.0004446506500244 seconds ---\n"
     ]
    }
   ],
   "source": [
    "#test 2  --------------  OPT. SOL. = 30\n",
    "places=[0, 1, 4, 9, 20, 18, 16, 5, 13, 19]\n",
    "sol = initial_sol(graph=graph, places=places)\n",
    "\n",
    "start_time = time.time()\n",
    "vns_sol = vns(sol=sol, k_max=10, t_max=1)\n",
    "print(vns_sol.g)\n",
    "print(vns_sol.visited)\n",
    "\n",
    "print(\"--- %s seconds ---\" % (time.time() - start_time))"
   ]
  },
  {
   "cell_type": "code",
   "execution_count": 41,
   "metadata": {
    "colab": {},
    "colab_type": "code",
    "id": "nkNwTmxPCTz9"
   },
   "outputs": [
    {
     "name": "stdout",
     "output_type": "stream",
     "text": [
      "27\n",
      "[0, 2, 7, 7, 8, 15, 11, 13, 16, 9, 4]\n",
      "--- 1.0009167194366455 seconds ---\n"
     ]
    }
   ],
   "source": [
    "# test 3  --------------  OPT. SOL. = 26\n",
    "places=[0, 2, 7, 13, 11, 16, 15, 7, 9, 8, 4]\n",
    "sol = initial_sol(graph=graph, places=places)\n",
    "\n",
    "start_time = time.time()\n",
    "vns_sol = vns(sol=sol, k_max=10, t_max=1)\n",
    "print(vns_sol.g)\n",
    "print(vns_sol.visited)\n",
    "print(\"--- %s seconds ---\" % (time.time() - start_time))"
   ]
  },
  {
   "cell_type": "code",
   "execution_count": 39,
   "metadata": {},
   "outputs": [
    {
     "name": "stdout",
     "output_type": "stream",
     "text": [
      "48\n",
      "[0, 3, 11, 12, 13, 4, 20, 15, 18, 14, 9, 16, 5, 2, 1]\n",
      "--- 1.0008182525634766 seconds ---\n"
     ]
    }
   ],
   "source": [
    "# test 4  --------------  OPT. SOL. = 40\n",
    "places=[0, 2, 20, 3, 18, 12, 13, 5, 11, 16, 15, 4, 9, 14, 1]\n",
    "sol = initial_sol(graph=graph, places=places)\n",
    "\n",
    "start_time = time.time()\n",
    "vns_sol = vns(sol=sol, k_max=10, t_max=1)\n",
    "print(vns_sol.g)\n",
    "print(vns_sol.visited)\n",
    "print(\"--- %s seconds ---\" % (time.time() - start_time))"
   ]
  },
  {
   "cell_type": "markdown",
   "metadata": {},
   "source": [
    "#### Résultats\n",
    "\n",
    "| Test | Noeuds visités | Coût |\n",
    "|------|----------------|-----------|\n",
    "| 1    | [0, 5, 6, 13, 16, 9, 4] | 27 |\n",
    "| 2    | [0, 1, 4, 5, 16, 9, 13, 20, 18, 19] | 31 |\n",
    "| 3    | [0, 2, 7, 7, 9, 11, 16, 15, 13, 8, 4] | 27 |\n",
    "| 4    | [0, 3, 11, 12, 13, 4, 20, 15, 18, 14, 9, 16, 5, 2, 1] | 48 |\n"
   ]
  },
  {
   "cell_type": "markdown",
   "metadata": {},
   "source": [
    "## 4. BONUS (1 point)\n",
    "\n",
    "Expliquez dans quelle situation chacun des algorithmes développés est plus approprié (prenez en compte l’évolutivité du problème)\n",
    "\n",
    "Pour le premier algorithme à implémenter, on explore toutes les nodes du graphe, ce qui fait que le temps d'exécution peut être très long si on a un graphe avec de nombreux sommets. On l'utilise dans des cas où il est crucial d'avoir la solution optimale et qu'on a plus de temps pour exécuter le programme. \n",
    "\n",
    "Par contre, le deuxième algorithme utilise des heuristiques pour élaguer l'arbre de recherche. Pour la même raison que le premier algorithme, on utilise cet algorithme pour assurer une solution optimale mais on est garantis d'avoir un temps d'exécution plus rapide que le premier. Il y avait quand même une différence observable entre les deux heuristiques étudiées pour le deuxième algorithme. En effet, le minimum spanning tree permettait à l'algorithme de ne visiter que quelques centaines d'attractions, alors que Dijkstra pouvait en faire visiter quelques centaines de milliers. Toutefois, le temps d'exécution peut quand même être long même avec l'heuristique la plus rapide lorsqu'il y a beaucoup d'attractions à visiter. De plus, on n'obtient pas de solution avant la fin de l'exécution de l'algorithme.\n",
    "\n",
    "En dernier lieu, l'algorithme de recherche assure l'obtention d'une solution suboptimale rapidement. On peut également contrôler le temps d'exécution de ce dernier afin d'obtenir de meilleurs résultats si nécessaire. Cependant, il n'y a aucune garantie quant à l'optimalité de la solution obtenue. Dans le cas où on a beaucoup d'attractions à visiter, que peu de temps à consacrer à l'exécution de l'algorithme et que la solution optimale n'est pas nécessaire, il serait avantageux d'utiliser cette technique."
   ]
  },
  {
   "cell_type": "markdown",
   "metadata": {},
   "source": [
    "## 5 Date de remise\n",
    "Tout devra être remis avant le 6 Octobre à 23h55. Tout travail en retard sera pénalisé d'une valeur de 10% par jour de retard."
   ]
  }
 ],
 "metadata": {
  "colab": {
   "name": "tp1_2018.ipynb",
   "provenance": [],
   "version": "0.3.2"
  },
  "kernelspec": {
   "display_name": "Python 3",
   "language": "python",
   "name": "python3"
  },
  "language_info": {
   "codemirror_mode": {
    "name": "ipython",
    "version": 3
   },
   "file_extension": ".py",
   "mimetype": "text/x-python",
   "name": "python",
   "nbconvert_exporter": "python",
   "pygments_lexer": "ipython3",
   "version": "3.6.4"
  }
 },
 "nbformat": 4,
 "nbformat_minor": 1
}
